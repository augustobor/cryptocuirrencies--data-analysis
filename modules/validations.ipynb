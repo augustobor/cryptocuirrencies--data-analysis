{
 "cells": [
  {
   "cell_type": "markdown",
   "metadata": {},
   "source": [
    "### Validaciones = pipelines de procesamiento y validación de tipos de datos"
   ]
  },
  {
   "cell_type": "code",
   "execution_count": 1,
   "metadata": {},
   "outputs": [
    {
     "name": "stdout",
     "output_type": "stream",
     "text": [
      "         Date      Open      High       Low     Close  Adj Close      Volume\n",
      "0  2017-10-01  0.021678  0.032226  0.017354  0.024969   0.024969  50068700.0\n",
      "1  2017-10-02  0.024607  0.030088  0.019969  0.025932   0.025932  57641300.0\n",
      "2  2017-10-03  0.025757  0.027425  0.020690  0.020816   0.020816  16997800.0\n",
      "3  2017-10-04  0.020864  0.022806  0.020864  0.021931   0.021931   9000050.0\n",
      "4  2017-10-05  0.021951  0.022154  0.020859  0.021489   0.021489   5562510.0\n",
      "Aloh\n"
     ]
    }
   ],
   "source": [
    "import pandas as pd \n",
    "\n",
    "data = pd.read_csv('../ADA-USD.csv')\n",
    "print(data.head())\n",
    "\n",
    "print(\"Aloh\")"
   ]
  }
 ],
 "metadata": {
  "interpreter": {
   "hash": "32775178845061b89d35af3c61483e98f288007fa132737be7cfc64a2fdae5c0"
  },
  "kernelspec": {
   "display_name": "Python 3.9.7 ('ada-venv': venv)",
   "language": "python",
   "name": "python3"
  },
  "language_info": {
   "codemirror_mode": {
    "name": "ipython",
    "version": 3
   },
   "file_extension": ".py",
   "mimetype": "text/x-python",
   "name": "python",
   "nbconvert_exporter": "python",
   "pygments_lexer": "ipython3",
   "version": "3.9.7"
  },
  "orig_nbformat": 4
 },
 "nbformat": 4,
 "nbformat_minor": 2
}
